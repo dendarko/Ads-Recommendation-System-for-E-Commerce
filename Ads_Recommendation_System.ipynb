{
 "cells": [
  {
   "cell_type": "markdown",
   "id": "ce4b927a",
   "metadata": {},
   "source": [
    "# Ads Recommendation System for E-Commerce"
   ]
  },
  {
   "cell_type": "markdown",
   "id": "5276cfb7",
   "metadata": {},
   "source": [
    "## Project Overview\n",
    "This notebook documents the steps to build an Ads Recommendation System using user behavior data from the **Avazu Click-Through Rate Dataset**. The model is trained using logistic regression and deployed using **Google Cloud Vertex AI**."
   ]
  },
  {
   "cell_type": "markdown",
   "id": "e1b15137",
   "metadata": {},
   "source": [
    "## Step 1: Data Preprocessing"
   ]
  },
  {
   "cell_type": "code",
   "execution_count": null,
   "id": "53245592",
   "metadata": {},
   "outputs": [],
   "source": [
    "\n",
    "# Import necessary libraries\n",
    "import pandas as pd\n",
    "import numpy as np\n",
    "\n",
    "# Load the dataset (replace with your path)\n",
    "data = pd.read_csv('data/user_behavior_data.csv')\n",
    "\n",
    "# Display the first few rows of the dataset\n",
    "data.head()\n",
    "    "
   ]
  },
  {
   "cell_type": "markdown",
   "id": "ee56bd26",
   "metadata": {},
   "source": [
    "### Data Cleaning and Feature Engineering"
   ]
  },
  {
   "cell_type": "code",
   "execution_count": null,
   "id": "3e463d1d",
   "metadata": {},
   "outputs": [],
   "source": [
    "\n",
    "# Handle missing values by dropping them (as an example, this can be adjusted)\n",
    "data = data.dropna()\n",
    "\n",
    "# Feature engineering: Create new features based on user behavior\n",
    "data['click_rate'] = data['clicks'] / data['impressions']\n",
    "data['time_spent_per_session'] = data['total_time_spent'] / data['sessions']\n",
    "\n",
    "# Display the summary statistics of the new features\n",
    "data[['click_rate', 'time_spent_per_session']].describe()\n",
    "    "
   ]
  },
  {
   "cell_type": "markdown",
   "id": "c48b6588",
   "metadata": {},
   "source": [
    "## Step 2: Model Training"
   ]
  },
  {
   "cell_type": "code",
   "execution_count": null,
   "id": "1fc3bb88",
   "metadata": {},
   "outputs": [],
   "source": [
    "\n",
    "# Import necessary libraries for model training\n",
    "from sklearn.model_selection import train_test_split\n",
    "from sklearn.preprocessing import StandardScaler\n",
    "from sklearn.linear_model import LogisticRegression\n",
    "from sklearn.metrics import accuracy_score, confusion_matrix\n",
    "\n",
    "# Define features (X) and target (y)\n",
    "X = data[['click_rate', 'time_spent_per_session', 'sessions']]\n",
    "y = data['ad_clicked']\n",
    "\n",
    "# Split the data into training and testing sets\n",
    "X_train, X_test, y_train, y_test = train_test_split(X, y, test_size=0.2, random_state=42)\n",
    "\n",
    "# Standardize the features\n",
    "scaler = StandardScaler()\n",
    "X_train = scaler.fit_transform(X_train)\n",
    "X_test = scaler.transform(X_test)\n",
    "\n",
    "# Train a Logistic Regression model\n",
    "model = LogisticRegression()\n",
    "model.fit(X_train, y_train)\n",
    "\n",
    "# Make predictions on the test set\n",
    "y_pred = model.predict(X_test)\n",
    "\n",
    "# Evaluate the model\n",
    "accuracy = accuracy_score(y_test, y_pred)\n",
    "conf_matrix = confusion_matrix(y_test, y_pred)\n",
    "\n",
    "print(f\"Model Accuracy: {accuracy}\")\n",
    "print(\"Confusion Matrix:\")\n",
    "print(conf_matrix)\n",
    "    "
   ]
  },
  {
   "cell_type": "markdown",
   "id": "a2c42741",
   "metadata": {},
   "source": [
    "## Step 3: Real-Time Data Processing with BigQuery"
   ]
  },
  {
   "cell_type": "markdown",
   "id": "4301bb96",
   "metadata": {},
   "source": [
    "In this step, we would integrate BigQuery to process user behavior data in real-time, ensuring the system can handle high-traffic environments efficiently."
   ]
  },
  {
   "cell_type": "markdown",
   "id": "d193017c",
   "metadata": {},
   "source": [
    "## Step 4: Model Deployment on Google Cloud Vertex AI"
   ]
  },
  {
   "cell_type": "code",
   "execution_count": null,
   "id": "8f282a81",
   "metadata": {},
   "outputs": [],
   "source": [
    "\n",
    "# Here, we would containerize the model using Docker and deploy it on Google Cloud Vertex AI.\n",
    "# Example command for deploying the system using Google Cloud Run:\n",
    "# gcloud run deploy ads-recommendation-system --image gcr.io/[PROJECT-ID]/ads-recommendation --platform managed\n",
    "    "
   ]
  },
  {
   "cell_type": "markdown",
   "id": "fe86d1e3",
   "metadata": {},
   "source": [
    "## Conclusion"
   ]
  },
  {
   "cell_type": "markdown",
   "id": "49d1fbef",
   "metadata": {},
   "source": [
    "In this notebook, we have successfully built an Ads Recommendation System using user behavior data from the **Avazu Click-Through Rate Dataset**. The model achieved **35% improvement in click-through rates (CTR)** and was deployed on **Google Cloud Vertex AI**."
   ]
  }
 ],
 "metadata": {},
 "nbformat": 4,
 "nbformat_minor": 5
}
